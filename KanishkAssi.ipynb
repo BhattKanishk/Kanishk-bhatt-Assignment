{
 "cells": [
  {
   "cell_type": "code",
   "execution_count": 1,
   "id": "d4964a9a-6ecf-4e88-a946-39a2ecdd3a7c",
   "metadata": {},
   "outputs": [],
   "source": [
    "a='Kanishk'"
   ]
  },
  {
   "cell_type": "code",
   "execution_count": 2,
   "id": "4baf36bb-4c7d-4c51-af1f-597d51399427",
   "metadata": {},
   "outputs": [
    {
     "data": {
      "text/plain": [
       "str"
      ]
     },
     "execution_count": 2,
     "metadata": {},
     "output_type": "execute_result"
    }
   ],
   "source": [
    "type(a)"
   ]
  },
  {
   "cell_type": "code",
   "execution_count": 3,
   "id": "0f8d655b-8f5f-49fc-b74b-b498165da245",
   "metadata": {},
   "outputs": [],
   "source": [
    "b=[12,19,'Apple','Mango']"
   ]
  },
  {
   "cell_type": "code",
   "execution_count": 4,
   "id": "57eb5d99-c9eb-42b7-892f-d323ac142447",
   "metadata": {},
   "outputs": [
    {
     "data": {
      "text/plain": [
       "list"
      ]
     },
     "execution_count": 4,
     "metadata": {},
     "output_type": "execute_result"
    }
   ],
   "source": [
    "type(b)"
   ]
  },
  {
   "cell_type": "code",
   "execution_count": 5,
   "id": "801b9628-6682-4367-8163-670c87a3416c",
   "metadata": {},
   "outputs": [],
   "source": [
    "c=18.199"
   ]
  },
  {
   "cell_type": "code",
   "execution_count": 6,
   "id": "e65f9814-67f1-47bd-8771-e89252add7f0",
   "metadata": {},
   "outputs": [
    {
     "data": {
      "text/plain": [
       "float"
      ]
     },
     "execution_count": 6,
     "metadata": {},
     "output_type": "execute_result"
    }
   ],
   "source": [
    "type(c)"
   ]
  },
  {
   "cell_type": "code",
   "execution_count": 7,
   "id": "558aa9bd-180f-4985-b713-a69764d55c59",
   "metadata": {},
   "outputs": [],
   "source": [
    "d=(\"Apple\",\"Banana\",\"Mango\",\"Cherry\")"
   ]
  },
  {
   "cell_type": "code",
   "execution_count": 8,
   "id": "65e25ae0-7572-4e95-a3cf-3ff06f8dc0bb",
   "metadata": {},
   "outputs": [
    {
     "data": {
      "text/plain": [
       "tuple"
      ]
     },
     "execution_count": 8,
     "metadata": {},
     "output_type": "execute_result"
    }
   ],
   "source": [
    "type(d)"
   ]
  },
  {
   "cell_type": "code",
   "execution_count": null,
   "id": "4f17d4c8-607f-4400-bd3c-5de611dd6ac5",
   "metadata": {},
   "outputs": [],
   "source": []
  },
  {
   "cell_type": "code",
   "execution_count": null,
   "id": "daf1b163-cea5-40b3-a68d-7df999d03a80",
   "metadata": {},
   "outputs": [],
   "source": [
    "var1 = ' '"
   ]
  },
  {
   "cell_type": "code",
   "execution_count": null,
   "id": "d04e376d-01e6-4b16-84a5-dfc6eff047fb",
   "metadata": {},
   "outputs": [
    {
     "data": {
      "text/plain": [
       "str"
      ]
     },
     "execution_count": 10,
     "metadata": {},
     "output_type": "execute_result"
    }
   ],
   "source": [
    "type(var1)"
   ]
  },
  {
   "cell_type": "code",
   "execution_count": 11,
   "id": "bc634dfb-a9d2-4a28-b111-f967cfba08a4",
   "metadata": {
    "tags": []
   },
   "outputs": [],
   "source": [
    "var2 = '[ DS , ML , Python]'"
   ]
  },
  {
   "cell_type": "code",
   "execution_count": 12,
   "id": "722a4e97-347d-4d94-8a4f-e909719a2b2e",
   "metadata": {},
   "outputs": [
    {
     "data": {
      "text/plain": [
       "str"
      ]
     },
     "execution_count": 12,
     "metadata": {},
     "output_type": "execute_result"
    }
   ],
   "source": [
    "type(var2)"
   ]
  },
  {
   "cell_type": "code",
   "execution_count": 13,
   "id": "bdc07b7e-c388-4156-b9db-ac92287642a1",
   "metadata": {},
   "outputs": [],
   "source": [
    "var3 = [ 'DS','ML','Python' ]"
   ]
  },
  {
   "cell_type": "code",
   "execution_count": 14,
   "id": "1bf6c9dc-c479-4c11-8b7d-2c8c59e36d11",
   "metadata": {},
   "outputs": [
    {
     "data": {
      "text/plain": [
       "list"
      ]
     },
     "execution_count": 14,
     "metadata": {},
     "output_type": "execute_result"
    }
   ],
   "source": [
    "type(var3)"
   ]
  },
  {
   "cell_type": "code",
   "execution_count": 15,
   "id": "af032b55-b175-43e4-92cd-0945012a5e45",
   "metadata": {},
   "outputs": [],
   "source": [
    "var4 = 1."
   ]
  },
  {
   "cell_type": "code",
   "execution_count": 16,
   "id": "57504794-b207-4140-88b1-6986bd4c0224",
   "metadata": {},
   "outputs": [
    {
     "data": {
      "text/plain": [
       "float"
      ]
     },
     "execution_count": 16,
     "metadata": {},
     "output_type": "execute_result"
    }
   ],
   "source": [
    "type(var4)"
   ]
  },
  {
   "cell_type": "code",
   "execution_count": null,
   "id": "f0b6ab28-309d-4aa8-b683-c9d52153da84",
   "metadata": {},
   "outputs": [],
   "source": []
  },
  {
   "cell_type": "code",
   "execution_count": 18,
   "id": "023cb700-bd9b-4530-96ae-1504f203fd46",
   "metadata": {},
   "outputs": [],
   "source": [
    "# Ans 3"
   ]
  },
  {
   "cell_type": "code",
   "execution_count": 19,
   "id": "93f13a04-61e9-49ec-99c8-5d9e74f61b18",
   "metadata": {},
   "outputs": [
    {
     "data": {
      "text/plain": [
       "0.6666666666666666"
      ]
     },
     "execution_count": 19,
     "metadata": {},
     "output_type": "execute_result"
    }
   ],
   "source": [
    "# Division operator\n",
    "2/3"
   ]
  },
  {
   "cell_type": "code",
   "execution_count": 20,
   "id": "2f636780-7748-45b1-8fed-881138512d06",
   "metadata": {},
   "outputs": [
    {
     "data": {
      "text/plain": [
       "0"
      ]
     },
     "execution_count": 20,
     "metadata": {},
     "output_type": "execute_result"
    }
   ],
   "source": [
    "# Modulus operator gives remainder\n",
    "3%3\n"
   ]
  },
  {
   "cell_type": "code",
   "execution_count": 21,
   "id": "ecf299ad-2bb0-4892-b2eb-7c55f2b011c7",
   "metadata": {},
   "outputs": [
    {
     "data": {
      "text/plain": [
       "3"
      ]
     },
     "execution_count": 21,
     "metadata": {},
     "output_type": "execute_result"
    }
   ],
   "source": [
    "# Division Floor gives integer part of the Quotient or the smallest integer value\n",
    "15//4"
   ]
  },
  {
   "cell_type": "code",
   "execution_count": 22,
   "id": "9ce19d01-a3ac-47eb-8989-c14f1867a512",
   "metadata": {},
   "outputs": [
    {
     "data": {
      "text/plain": [
       "64"
      ]
     },
     "execution_count": 22,
     "metadata": {},
     "output_type": "execute_result"
    }
   ],
   "source": [
    "# Power operator\n",
    "4**3"
   ]
  },
  {
   "cell_type": "code",
   "execution_count": null,
   "id": "9e296374-424a-4853-879c-3ceccd3a3ae8",
   "metadata": {},
   "outputs": [],
   "source": []
  },
  {
   "cell_type": "code",
   "execution_count": null,
   "id": "615b4248-0427-4aed-9a3b-14789df30365",
   "metadata": {},
   "outputs": [],
   "source": [
    "# Q4. Create a list of length 10 of your choice containing multiple types of data. Using for loop print the\n",
    "# element and its data type."
   ]
  },
  {
   "cell_type": "code",
   "execution_count": 1,
   "id": "f1dd1bd1-514b-48e6-bab2-f29bd84f6bd6",
   "metadata": {},
   "outputs": [],
   "source": [
    "a=[12,'12',12.000,278,['Apple',99.9897,'Car'],('Orange','Lavender','Saffron'),True,4+6j,False,'Party']"
   ]
  },
  {
   "cell_type": "code",
   "execution_count": 2,
   "id": "80364929-0664-46e5-ad83-492b62a223a6",
   "metadata": {},
   "outputs": [
    {
     "name": "stdout",
     "output_type": "stream",
     "text": [
      "12\n",
      "<class 'int'>\n",
      "12\n",
      "<class 'str'>\n",
      "12.0\n",
      "<class 'float'>\n",
      "278\n",
      "<class 'int'>\n",
      "['Apple', 99.9897, 'Car']\n",
      "<class 'list'>\n",
      "('Orange', 'Lavender', 'Saffron')\n",
      "<class 'tuple'>\n",
      "True\n",
      "<class 'bool'>\n",
      "(4+6j)\n",
      "<class 'complex'>\n",
      "False\n",
      "<class 'bool'>\n",
      "Party\n",
      "<class 'str'>\n"
     ]
    }
   ],
   "source": [
    "for i in a:\n",
    "    print(i)\n",
    "    print(type(i))"
   ]
  },
  {
   "cell_type": "code",
   "execution_count": null,
   "id": "81b038da-2524-4f4b-9c3c-d0c3b0808c78",
   "metadata": {},
   "outputs": [],
   "source": []
  },
  {
   "cell_type": "code",
   "execution_count": 3,
   "id": "3c9f5c8a-bb31-42ad-a839-9f9d4dbeacc6",
   "metadata": {},
   "outputs": [],
   "source": [
    "# Q5. Using a while loop, verify if the number A is purely divisible by number B and if so then how many\n",
    "# times it can be divisible."
   ]
  },
  {
   "cell_type": "code",
   "execution_count": 4,
   "id": "647cda3f-fcee-48b5-b158-469c31365b67",
   "metadata": {},
   "outputs": [
    {
     "name": "stdin",
     "output_type": "stream",
     "text": [
      " 15\n",
      " 3\n"
     ]
    },
    {
     "name": "stdout",
     "output_type": "stream",
     "text": [
      "5\n"
     ]
    }
   ],
   "source": [
    "m=int(input())\n",
    "n=int(input())\n",
    "\n",
    "while m%n==0:\n",
    "    print(m//n)\n",
    "    break"
   ]
  },
  {
   "cell_type": "code",
   "execution_count": null,
   "id": "f7fb2201-4469-4a52-88b0-02ec796b8f50",
   "metadata": {},
   "outputs": [],
   "source": []
  },
  {
   "cell_type": "code",
   "execution_count": 5,
   "id": "22b0956a-c07a-42a3-95e5-0fef800df83e",
   "metadata": {},
   "outputs": [],
   "source": [
    "# Q6. Create a list containing 25 int type data. Using for loop and if-else condition print if the element is\n",
    "# divisible by 3 or not."
   ]
  },
  {
   "cell_type": "code",
   "execution_count": 6,
   "id": "9f90c44f-71e0-40d6-9c42-9617455a91cc",
   "metadata": {},
   "outputs": [
    {
     "name": "stdout",
     "output_type": "stream",
     "text": [
      "12\n",
      "Is divisible by 3\n",
      "32\n",
      "Is not divisible by 3\n",
      "96\n",
      "Is divisible by 3\n",
      "81\n",
      "Is divisible by 3\n",
      "199\n",
      "Is not divisible by 3\n",
      "21\n",
      "Is divisible by 3\n",
      "30\n",
      "Is divisible by 3\n",
      "17\n",
      "Is not divisible by 3\n",
      "52\n",
      "Is not divisible by 3\n",
      "11\n",
      "Is not divisible by 3\n",
      "66\n",
      "Is divisible by 3\n",
      "48\n",
      "Is divisible by 3\n",
      "201\n",
      "Is divisible by 3\n",
      "51\n",
      "Is divisible by 3\n",
      "75\n",
      "Is divisible by 3\n",
      "19\n",
      "Is not divisible by 3\n",
      "99\n",
      "Is divisible by 3\n",
      "169\n",
      "Is not divisible by 3\n",
      "222\n",
      "Is divisible by 3\n",
      "71\n",
      "Is not divisible by 3\n",
      "55\n",
      "Is not divisible by 3\n",
      "73\n",
      "Is not divisible by 3\n",
      "29\n",
      "Is not divisible by 3\n",
      "64\n",
      "Is not divisible by 3\n",
      "31\n",
      "Is not divisible by 3\n"
     ]
    }
   ],
   "source": [
    "l=[12,32,96,81,199,21,30,17,52,11,66,48,201,51,75,19,99,169,222,71,55,73,29,64,31]\n",
    "for i in l:\n",
    "    print(i)\n",
    "    if i%3==0:\n",
    "        print(\"Is divisible by 3\")\n",
    "    else:\n",
    "        \n",
    "        print(\"Is not divisible by 3\")"
   ]
  },
  {
   "cell_type": "code",
   "execution_count": null,
   "id": "1610f508-9a93-4704-b849-1e9bef34f678",
   "metadata": {},
   "outputs": [],
   "source": []
  },
  {
   "cell_type": "code",
   "execution_count": 7,
   "id": "a946e29f-85a0-4e2f-bf92-10ad7eba3a69",
   "metadata": {},
   "outputs": [],
   "source": [
    "# Q7. What do you understand about mutable and immutable data types? Give examples for both showing\n",
    "# this property. "
   ]
  },
  {
   "cell_type": "code",
   "execution_count": 9,
   "id": "0ae9ba77-8328-4e7b-931e-1803c3811a80",
   "metadata": {},
   "outputs": [
    {
     "name": "stdout",
     "output_type": "stream",
     "text": [
      "[12, 'Harry', 'carry', 18, 15]\n"
     ]
    }
   ],
   "source": [
    "#  Mutable means --> In which the elements can be reassigned or changed.\n",
    "#               eg. it can be done in a list\n",
    "\n",
    "l=[12,\"Harry\",\"carry\",32,15]\n",
    "l[3]=18\n",
    "print(l)"
   ]
  },
  {
   "cell_type": "code",
   "execution_count": 10,
   "id": "5eed72d0-a2d4-432e-8da8-282fbf9c5b02",
   "metadata": {},
   "outputs": [
    {
     "ename": "TypeError",
     "evalue": "'str' object does not support item assignment",
     "output_type": "error",
     "traceback": [
      "\u001b[0;31m---------------------------------------------------------------------------\u001b[0m",
      "\u001b[0;31mTypeError\u001b[0m                                 Traceback (most recent call last)",
      "Cell \u001b[0;32mIn[10], line 5\u001b[0m\n\u001b[1;32m      1\u001b[0m \u001b[38;5;66;03m#  Immutable --> When we are unable to reassign a value or change the value is immutable\u001b[39;00m\n\u001b[1;32m      2\u001b[0m \u001b[38;5;66;03m#                  eg. it is seen in string in which the index of string can not be changed.\u001b[39;00m\n\u001b[1;32m      4\u001b[0m s\u001b[38;5;241m=\u001b[39m\u001b[38;5;124m\"\u001b[39m\u001b[38;5;124mHarry\u001b[39m\u001b[38;5;124m\"\u001b[39m\n\u001b[0;32m----> 5\u001b[0m \u001b[43ms\u001b[49m\u001b[43m[\u001b[49m\u001b[38;5;241;43m2\u001b[39;49m\u001b[43m]\u001b[49m\u001b[38;5;241m=\u001b[39ma\n\u001b[1;32m      6\u001b[0m \u001b[38;5;28mprint\u001b[39m(s)\n",
      "\u001b[0;31mTypeError\u001b[0m: 'str' object does not support item assignment"
     ]
    }
   ],
   "source": [
    "#  Immutable --> When we are unable to reassign a value or change the value is immutable\n",
    "#                  eg. it is seen in string in which the index of string can not be changed.\n",
    "\n",
    "s=\"Harry\"\n",
    "s[2]=a\n",
    "print(s)"
   ]
  },
  {
   "cell_type": "code",
   "execution_count": null,
   "id": "4d692da1-f5bd-47c8-a7d9-fe9e1cf4007e",
   "metadata": {},
   "outputs": [],
   "source": []
  }
 ],
 "metadata": {
  "kernelspec": {
   "display_name": "Python 3 (ipykernel)",
   "language": "python",
   "name": "python3"
  },
  "language_info": {
   "codemirror_mode": {
    "name": "ipython",
    "version": 3
   },
   "file_extension": ".py",
   "mimetype": "text/x-python",
   "name": "python",
   "nbconvert_exporter": "python",
   "pygments_lexer": "ipython3",
   "version": "3.10.8"
  }
 },
 "nbformat": 4,
 "nbformat_minor": 5
}
